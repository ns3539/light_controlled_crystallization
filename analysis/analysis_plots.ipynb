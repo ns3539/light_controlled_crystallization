{
 "cells": [
  {
   "cell_type": "code",
   "execution_count": null,
   "id": "39b8a63f-de4b-4047-8d5e-6f11aa154837",
   "metadata": {},
   "outputs": [],
   "source": [
    "import matplotlib.pyplot as plt\n",
    "import numpy as np\n",
    "import math\n",
    "import freud\n",
    "import gsd.hoomd"
   ]
  },
  {
   "cell_type": "markdown",
   "id": "e1e74aef-4be4-4653-92f7-9131f586f0bc",
   "metadata": {},
   "source": [
    "### Steinhardt order parameters"
   ]
  },
  {
   "cell_type": "code",
   "execution_count": null,
   "id": "68e4814f-07d5-404a-aeee-7dcecc5b6ed4",
   "metadata": {},
   "outputs": [],
   "source": [
    "L = 6\n",
    "traj = gsd.hoomd.open(\"trajectory.gsd\")\n",
    "ql = freud.order.Steinhardt(L)\n",
    "q_avg = []\n",
    "for frame in traj:\n",
    "    ql.compute(frame, neighbors={\"num_neighbors\": L})\n",
    "    q_avg.append(np.mean(ql.particle_order))"
   ]
  },
  {
   "cell_type": "code",
   "execution_count": null,
   "id": "e78604d7-9ae4-4ccc-8891-443c3aa4ee0c",
   "metadata": {},
   "outputs": [],
   "source": [
    "plt.plot(q_avg)\n",
    "plt.xlabel(\"frame\")\n",
    "plt.ylabel(f'$\\\\psi_{L}$')\n",
    "plt.show()"
   ]
  },
  {
   "cell_type": "code",
   "execution_count": null,
   "id": "fb3cf360-651e-4289-beeb-f28a446a5ab2",
   "metadata": {},
   "outputs": [],
   "source": []
  }
 ],
 "metadata": {
  "kernelspec": {
   "display_name": "Python 3 (ipykernel)",
   "language": "python",
   "name": "python3"
  },
  "language_info": {
   "codemirror_mode": {
    "name": "ipython",
    "version": 3
   },
   "file_extension": ".py",
   "mimetype": "text/x-python",
   "name": "python",
   "nbconvert_exporter": "python",
   "pygments_lexer": "ipython3",
   "version": "3.13.2"
  }
 },
 "nbformat": 4,
 "nbformat_minor": 5
}
